{
 "cells": [
  {
   "cell_type": "markdown",
   "id": "6f03e7db-9354-40f9-9dae-e6b509bf8f06",
   "metadata": {},
   "source": [
    "# Data Science Tools and Ecosystem"
   ]
  },
  {
   "cell_type": "markdown",
   "id": "a0ac53d1-fe8e-4072-888a-5c90d9201d2c",
   "metadata": {},
   "source": [
    "In this notebook, Data Science Tools and Ecosystem are summarized"
   ]
  },
  {
   "cell_type": "markdown",
   "id": "792aa124-c8ce-4226-9ae0-3d8cc7ad2881",
   "metadata": {},
   "source": [
    "**Objetives:**\n",
    "- List popular languages for Data Science\n",
    "- Commonly used Libraries used by Data Sciencist\n",
    "- Data Science Tools\n",
    "- Examples of evaluating arithmetics expressions in Python"
   ]
  },
  {
   "cell_type": "markdown",
   "id": "51f8a660-65e7-49fa-988b-1a059fdf6ca3",
   "metadata": {},
   "source": [
    "Some popular languages that Data Scientist use are:\n",
    "1. Python\n",
    "2. R\n",
    "3. Julia"
   ]
  },
  {
   "cell_type": "markdown",
   "id": "58595bed-1323-43a7-b1ad-111af6be27ce",
   "metadata": {},
   "source": [
    "Some of the commonly used libraries used by Data Scientists include:\n",
    "1. Pandas\n",
    "2. Matplotlib\n",
    "3. ScyPy"
   ]
  },
  {
   "cell_type": "markdown",
   "id": "054aacfd-b550-44c3-8ea1-59e7dcfdb6b1",
   "metadata": {},
   "source": [
    "|Data Science Tools|\n",
    "--------------------\n",
    "|Jupiter Notebooks |\n",
    "| RStudio |\n",
    "|Apache Studio|\n"
   ]
  },
  {
   "cell_type": "markdown",
   "id": "a1049d00-399c-495d-a717-3703202d5be4",
   "metadata": {},
   "source": [
    "### Below are a few examples of evaluating arithmetic expressions in Python"
   ]
  },
  {
   "cell_type": "markdown",
   "id": "dea00533-b709-46aa-a277-b63d14b457c1",
   "metadata": {},
   "source": [
    "This a simple arithmetic expression to multiply then add integers."
   ]
  },
  {
   "cell_type": "code",
   "execution_count": 57,
   "id": "4af15948-a2e1-46a1-b6c8-516313232caf",
   "metadata": {},
   "outputs": [
    {
     "data": {
      "text/plain": [
       "17"
      ]
     },
     "execution_count": 57,
     "metadata": {},
     "output_type": "execute_result"
    }
   ],
   "source": [
    "(3*4)+5"
   ]
  },
  {
   "cell_type": "markdown",
   "id": "feb78459-4ace-4fa2-a7fb-7c1428c2e31b",
   "metadata": {},
   "source": [
    "This will convert 200 to hours by diving by 60."
   ]
  },
  {
   "cell_type": "code",
   "execution_count": 60,
   "id": "b3939aab-8a03-422c-b1d0-f4b1d9af7689",
   "metadata": {},
   "outputs": [
    {
     "data": {
      "text/plain": [
       "3.3333333333333335"
      ]
     },
     "execution_count": 60,
     "metadata": {},
     "output_type": "execute_result"
    }
   ],
   "source": [
    "200/60"
   ]
  },
  {
   "cell_type": "markdown",
   "id": "147e145e-9dc2-4e88-85f4-854b792dc0e2",
   "metadata": {},
   "source": [
    "## Author\n",
    "Raul Gomez Rodriguez"
   ]
  }
 ],
 "metadata": {
  "kernelspec": {
   "display_name": "Python",
   "language": "python",
   "name": "conda-env-python-py"
  },
  "language_info": {
   "codemirror_mode": {
    "name": "ipython",
    "version": 3
   },
   "file_extension": ".py",
   "mimetype": "text/x-python",
   "name": "python",
   "nbconvert_exporter": "python",
   "pygments_lexer": "ipython3",
   "version": "3.7.12"
  }
 },
 "nbformat": 4,
 "nbformat_minor": 5
}
